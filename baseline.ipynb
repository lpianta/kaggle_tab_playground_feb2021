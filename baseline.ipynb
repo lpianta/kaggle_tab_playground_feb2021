{
 "metadata": {
  "language_info": {
   "codemirror_mode": {
    "name": "ipython",
    "version": 3
   },
   "file_extension": ".py",
   "mimetype": "text/x-python",
   "name": "python",
   "nbconvert_exporter": "python",
   "pygments_lexer": "ipython3",
   "version": "3.7.7-final"
  },
  "orig_nbformat": 2,
  "kernelspec": {
   "name": "python37964bitmachinelearningconda1cfe37b0c0b64e5e9e7af4275d66da5b",
   "display_name": "Python 3.7.9 64-bit ('machine_learning': conda)",
   "language": "python"
  }
 },
 "nbformat": 4,
 "nbformat_minor": 2,
 "cells": [
  {
   "source": [
    "# importing libraries\n",
    "\n",
    "import pandas as pd\n",
    "import numpy as np\n",
    "from sklearn import pipeline\n",
    "from sklearn.model_selection import train_test_split\n",
    "from sklearn.compose import ColumnTransformer\n",
    "from sklearn.preprocessing import StandardScaler\n",
    "from category_encoders import OrdinalEncoder\n",
    "from sklearn.model_selection import RandomizedSearchCV\n",
    "from sklearn.ensemble import RandomForestRegressor"
   ],
   "cell_type": "code",
   "metadata": {},
   "execution_count": 12,
   "outputs": []
  },
  {
   "source": [
    "### Loading data"
   ],
   "cell_type": "markdown",
   "metadata": {}
  },
  {
   "cell_type": "code",
   "execution_count": 13,
   "metadata": {},
   "outputs": [],
   "source": [
    "train = pd.read_csv('./Data/train.csv')\n",
    "test = pd.read_csv('./Data/test.csv')"
   ]
  },
  {
   "cell_type": "code",
   "execution_count": 14,
   "metadata": {},
   "outputs": [
    {
     "output_type": "execute_result",
     "data": {
      "text/plain": [
       "            id cat0 cat1 cat2 cat3 cat4 cat5 cat6 cat7 cat8  ...     cont5  \\\n",
       "0            1    A    B    A    A    B    D    A    E    C  ...  0.881122   \n",
       "1            2    B    A    A    A    B    B    A    E    A  ...  0.440011   \n",
       "2            3    A    A    A    C    B    D    A    B    C  ...  0.914155   \n",
       "3            4    A    A    A    C    B    D    A    E    G  ...  0.934138   \n",
       "4            6    A    B    A    A    B    B    A    E    C  ...  0.382600   \n",
       "...        ...  ...  ...  ...  ...  ...  ...  ...  ...  ...  ...       ...   \n",
       "299995  499993    A    B    A    C    B    B    A    E    E  ...  0.269578   \n",
       "299996  499996    A    B    A    C    B    B    A    E    E  ...  0.197211   \n",
       "299997  499997    A    B    A    C    B    B    A    E    C  ...  0.449482   \n",
       "299998  499998    A    B    B    C    B    B    A    D    E  ...  0.363130   \n",
       "299999  499999    A    A    B    A    B    D    A    E    C  ...  0.734712   \n",
       "\n",
       "           cont6     cont7     cont8     cont9    cont10    cont11    cont12  \\\n",
       "0       0.421650  0.741413  0.895799  0.802461  0.724417  0.701915  0.877618   \n",
       "1       0.346230  0.278495  0.593413  0.546056  0.613252  0.741289  0.326679   \n",
       "2       0.369602  0.832564  0.865620  0.825251  0.264104  0.695561  0.869133   \n",
       "3       0.578930  0.407313  0.868099  0.794402  0.494269  0.698125  0.809799   \n",
       "4       0.705940  0.325193  0.440967  0.462146  0.724447  0.683073  0.343457   \n",
       "...          ...       ...       ...       ...       ...       ...       ...   \n",
       "299995  0.258655  0.363598  0.300619  0.340516  0.235711  0.383477  0.215227   \n",
       "299996  0.257024  0.574304  0.227035  0.322583  0.286094  0.324874  0.306933   \n",
       "299997  0.386172  0.476217  0.135947  0.502730  0.235788  0.316671  0.250286   \n",
       "299998  0.324132  0.229017  0.220888  0.515304  0.389391  0.245234  0.303895   \n",
       "299999  0.404145  0.497719  0.497974  0.782585  0.751251  0.608412  0.712868   \n",
       "\n",
       "          cont13    target  \n",
       "0       0.719903  6.994023  \n",
       "1       0.808464  8.071256  \n",
       "2       0.828352  5.760456  \n",
       "3       0.614766  7.806457  \n",
       "4       0.297743  6.868974  \n",
       "...          ...       ...  \n",
       "299995  0.793630  8.343538  \n",
       "299996  0.230902  7.851861  \n",
       "299997  0.349041  7.600558  \n",
       "299998  0.481138  8.272095  \n",
       "299999  0.452400  6.025685  \n",
       "\n",
       "[300000 rows x 26 columns]"
      ],
      "text/html": "<div>\n<style scoped>\n    .dataframe tbody tr th:only-of-type {\n        vertical-align: middle;\n    }\n\n    .dataframe tbody tr th {\n        vertical-align: top;\n    }\n\n    .dataframe thead th {\n        text-align: right;\n    }\n</style>\n<table border=\"1\" class=\"dataframe\">\n  <thead>\n    <tr style=\"text-align: right;\">\n      <th></th>\n      <th>id</th>\n      <th>cat0</th>\n      <th>cat1</th>\n      <th>cat2</th>\n      <th>cat3</th>\n      <th>cat4</th>\n      <th>cat5</th>\n      <th>cat6</th>\n      <th>cat7</th>\n      <th>cat8</th>\n      <th>...</th>\n      <th>cont5</th>\n      <th>cont6</th>\n      <th>cont7</th>\n      <th>cont8</th>\n      <th>cont9</th>\n      <th>cont10</th>\n      <th>cont11</th>\n      <th>cont12</th>\n      <th>cont13</th>\n      <th>target</th>\n    </tr>\n  </thead>\n  <tbody>\n    <tr>\n      <th>0</th>\n      <td>1</td>\n      <td>A</td>\n      <td>B</td>\n      <td>A</td>\n      <td>A</td>\n      <td>B</td>\n      <td>D</td>\n      <td>A</td>\n      <td>E</td>\n      <td>C</td>\n      <td>...</td>\n      <td>0.881122</td>\n      <td>0.421650</td>\n      <td>0.741413</td>\n      <td>0.895799</td>\n      <td>0.802461</td>\n      <td>0.724417</td>\n      <td>0.701915</td>\n      <td>0.877618</td>\n      <td>0.719903</td>\n      <td>6.994023</td>\n    </tr>\n    <tr>\n      <th>1</th>\n      <td>2</td>\n      <td>B</td>\n      <td>A</td>\n      <td>A</td>\n      <td>A</td>\n      <td>B</td>\n      <td>B</td>\n      <td>A</td>\n      <td>E</td>\n      <td>A</td>\n      <td>...</td>\n      <td>0.440011</td>\n      <td>0.346230</td>\n      <td>0.278495</td>\n      <td>0.593413</td>\n      <td>0.546056</td>\n      <td>0.613252</td>\n      <td>0.741289</td>\n      <td>0.326679</td>\n      <td>0.808464</td>\n      <td>8.071256</td>\n    </tr>\n    <tr>\n      <th>2</th>\n      <td>3</td>\n      <td>A</td>\n      <td>A</td>\n      <td>A</td>\n      <td>C</td>\n      <td>B</td>\n      <td>D</td>\n      <td>A</td>\n      <td>B</td>\n      <td>C</td>\n      <td>...</td>\n      <td>0.914155</td>\n      <td>0.369602</td>\n      <td>0.832564</td>\n      <td>0.865620</td>\n      <td>0.825251</td>\n      <td>0.264104</td>\n      <td>0.695561</td>\n      <td>0.869133</td>\n      <td>0.828352</td>\n      <td>5.760456</td>\n    </tr>\n    <tr>\n      <th>3</th>\n      <td>4</td>\n      <td>A</td>\n      <td>A</td>\n      <td>A</td>\n      <td>C</td>\n      <td>B</td>\n      <td>D</td>\n      <td>A</td>\n      <td>E</td>\n      <td>G</td>\n      <td>...</td>\n      <td>0.934138</td>\n      <td>0.578930</td>\n      <td>0.407313</td>\n      <td>0.868099</td>\n      <td>0.794402</td>\n      <td>0.494269</td>\n      <td>0.698125</td>\n      <td>0.809799</td>\n      <td>0.614766</td>\n      <td>7.806457</td>\n    </tr>\n    <tr>\n      <th>4</th>\n      <td>6</td>\n      <td>A</td>\n      <td>B</td>\n      <td>A</td>\n      <td>A</td>\n      <td>B</td>\n      <td>B</td>\n      <td>A</td>\n      <td>E</td>\n      <td>C</td>\n      <td>...</td>\n      <td>0.382600</td>\n      <td>0.705940</td>\n      <td>0.325193</td>\n      <td>0.440967</td>\n      <td>0.462146</td>\n      <td>0.724447</td>\n      <td>0.683073</td>\n      <td>0.343457</td>\n      <td>0.297743</td>\n      <td>6.868974</td>\n    </tr>\n    <tr>\n      <th>...</th>\n      <td>...</td>\n      <td>...</td>\n      <td>...</td>\n      <td>...</td>\n      <td>...</td>\n      <td>...</td>\n      <td>...</td>\n      <td>...</td>\n      <td>...</td>\n      <td>...</td>\n      <td>...</td>\n      <td>...</td>\n      <td>...</td>\n      <td>...</td>\n      <td>...</td>\n      <td>...</td>\n      <td>...</td>\n      <td>...</td>\n      <td>...</td>\n      <td>...</td>\n      <td>...</td>\n    </tr>\n    <tr>\n      <th>299995</th>\n      <td>499993</td>\n      <td>A</td>\n      <td>B</td>\n      <td>A</td>\n      <td>C</td>\n      <td>B</td>\n      <td>B</td>\n      <td>A</td>\n      <td>E</td>\n      <td>E</td>\n      <td>...</td>\n      <td>0.269578</td>\n      <td>0.258655</td>\n      <td>0.363598</td>\n      <td>0.300619</td>\n      <td>0.340516</td>\n      <td>0.235711</td>\n      <td>0.383477</td>\n      <td>0.215227</td>\n      <td>0.793630</td>\n      <td>8.343538</td>\n    </tr>\n    <tr>\n      <th>299996</th>\n      <td>499996</td>\n      <td>A</td>\n      <td>B</td>\n      <td>A</td>\n      <td>C</td>\n      <td>B</td>\n      <td>B</td>\n      <td>A</td>\n      <td>E</td>\n      <td>E</td>\n      <td>...</td>\n      <td>0.197211</td>\n      <td>0.257024</td>\n      <td>0.574304</td>\n      <td>0.227035</td>\n      <td>0.322583</td>\n      <td>0.286094</td>\n      <td>0.324874</td>\n      <td>0.306933</td>\n      <td>0.230902</td>\n      <td>7.851861</td>\n    </tr>\n    <tr>\n      <th>299997</th>\n      <td>499997</td>\n      <td>A</td>\n      <td>B</td>\n      <td>A</td>\n      <td>C</td>\n      <td>B</td>\n      <td>B</td>\n      <td>A</td>\n      <td>E</td>\n      <td>C</td>\n      <td>...</td>\n      <td>0.449482</td>\n      <td>0.386172</td>\n      <td>0.476217</td>\n      <td>0.135947</td>\n      <td>0.502730</td>\n      <td>0.235788</td>\n      <td>0.316671</td>\n      <td>0.250286</td>\n      <td>0.349041</td>\n      <td>7.600558</td>\n    </tr>\n    <tr>\n      <th>299998</th>\n      <td>499998</td>\n      <td>A</td>\n      <td>B</td>\n      <td>B</td>\n      <td>C</td>\n      <td>B</td>\n      <td>B</td>\n      <td>A</td>\n      <td>D</td>\n      <td>E</td>\n      <td>...</td>\n      <td>0.363130</td>\n      <td>0.324132</td>\n      <td>0.229017</td>\n      <td>0.220888</td>\n      <td>0.515304</td>\n      <td>0.389391</td>\n      <td>0.245234</td>\n      <td>0.303895</td>\n      <td>0.481138</td>\n      <td>8.272095</td>\n    </tr>\n    <tr>\n      <th>299999</th>\n      <td>499999</td>\n      <td>A</td>\n      <td>A</td>\n      <td>B</td>\n      <td>A</td>\n      <td>B</td>\n      <td>D</td>\n      <td>A</td>\n      <td>E</td>\n      <td>C</td>\n      <td>...</td>\n      <td>0.734712</td>\n      <td>0.404145</td>\n      <td>0.497719</td>\n      <td>0.497974</td>\n      <td>0.782585</td>\n      <td>0.751251</td>\n      <td>0.608412</td>\n      <td>0.712868</td>\n      <td>0.452400</td>\n      <td>6.025685</td>\n    </tr>\n  </tbody>\n</table>\n<p>300000 rows × 26 columns</p>\n</div>"
     },
     "metadata": {},
     "execution_count": 14
    }
   ],
   "source": [
    "train"
   ]
  },
  {
   "cell_type": "code",
   "execution_count": 15,
   "metadata": {},
   "outputs": [
    {
     "output_type": "execute_result",
     "data": {
      "text/plain": [
       "            id cat0 cat1 cat2 cat3 cat4 cat5 cat6 cat7 cat8  ...     cont4  \\\n",
       "0            0    A    B    A    C    B    D    A    E    E  ...  0.701679   \n",
       "1            5    A    B    A    C    B    D    A    E    C  ...  0.277480   \n",
       "2           15    A    B    A    C    B    D    A    E    C  ...  0.279508   \n",
       "3           16    A    A    B    A    B    D    A    E    E  ...  0.479503   \n",
       "4           17    A    B    A    A    B    B    A    E    E  ...  0.757845   \n",
       "...        ...  ...  ...  ...  ...  ...  ...  ...  ...  ...  ...       ...   \n",
       "199995  499987    A    A    A    C    B    D    A    E    G  ...  0.277365   \n",
       "199996  499990    A    A    A    C    B    D    A    E    E  ...  0.523174   \n",
       "199997  499991    A    A    A    C    B    D    A    E    C  ...  0.517103   \n",
       "199998  499994    A    B    A    A    B    D    A    E    C  ...  0.279153   \n",
       "199999  499995    A    B    A    C    B    C    A    E    G  ...  0.763246   \n",
       "\n",
       "           cont5     cont6     cont7     cont8     cont9    cont10    cont11  \\\n",
       "0       0.595507  0.286912  0.279884  0.202234  0.242654  0.285147  0.264308   \n",
       "1       0.479552  0.397436  0.476742  0.857073  0.516393  0.562065  0.730542   \n",
       "2       0.676395  0.695284  0.253316  0.586934  0.548555  0.836193  0.759788   \n",
       "3       0.759875  0.240049  0.298074  0.442475  0.596746  0.414131  0.255382   \n",
       "4       0.210232  0.329851  0.616663  0.170475  0.263235  0.710961  0.224045   \n",
       "...          ...       ...       ...       ...       ...       ...       ...   \n",
       "199995  0.963678  0.240482  0.686462  0.915165  0.848878  0.459598  0.590327   \n",
       "199996  0.232072  0.363421  0.694092  0.137002  0.319465  0.364527  0.388908   \n",
       "199997  0.432927  0.811876  0.328398  0.496017  0.538779  0.466338  0.643869   \n",
       "199998  0.837712  0.680886  0.534439  0.501588  0.809053  0.631704  0.766426   \n",
       "199999  0.792263  0.409425  0.285033  0.594721  0.824892  0.479586  0.683065   \n",
       "\n",
       "          cont12    cont13  \n",
       "0       0.653654  0.302448  \n",
       "1       0.318492  0.736251  \n",
       "2       0.333572  0.273905  \n",
       "3       0.589080  0.311625  \n",
       "4       0.285860  0.794931  \n",
       "...          ...       ...  \n",
       "199995  0.864873  0.425258  \n",
       "199996  0.664357  0.224215  \n",
       "199997  0.749590  0.457702  \n",
       "199998  0.937139  0.796304  \n",
       "199999  0.721518  0.722690  \n",
       "\n",
       "[200000 rows x 25 columns]"
      ],
      "text/html": "<div>\n<style scoped>\n    .dataframe tbody tr th:only-of-type {\n        vertical-align: middle;\n    }\n\n    .dataframe tbody tr th {\n        vertical-align: top;\n    }\n\n    .dataframe thead th {\n        text-align: right;\n    }\n</style>\n<table border=\"1\" class=\"dataframe\">\n  <thead>\n    <tr style=\"text-align: right;\">\n      <th></th>\n      <th>id</th>\n      <th>cat0</th>\n      <th>cat1</th>\n      <th>cat2</th>\n      <th>cat3</th>\n      <th>cat4</th>\n      <th>cat5</th>\n      <th>cat6</th>\n      <th>cat7</th>\n      <th>cat8</th>\n      <th>...</th>\n      <th>cont4</th>\n      <th>cont5</th>\n      <th>cont6</th>\n      <th>cont7</th>\n      <th>cont8</th>\n      <th>cont9</th>\n      <th>cont10</th>\n      <th>cont11</th>\n      <th>cont12</th>\n      <th>cont13</th>\n    </tr>\n  </thead>\n  <tbody>\n    <tr>\n      <th>0</th>\n      <td>0</td>\n      <td>A</td>\n      <td>B</td>\n      <td>A</td>\n      <td>C</td>\n      <td>B</td>\n      <td>D</td>\n      <td>A</td>\n      <td>E</td>\n      <td>E</td>\n      <td>...</td>\n      <td>0.701679</td>\n      <td>0.595507</td>\n      <td>0.286912</td>\n      <td>0.279884</td>\n      <td>0.202234</td>\n      <td>0.242654</td>\n      <td>0.285147</td>\n      <td>0.264308</td>\n      <td>0.653654</td>\n      <td>0.302448</td>\n    </tr>\n    <tr>\n      <th>1</th>\n      <td>5</td>\n      <td>A</td>\n      <td>B</td>\n      <td>A</td>\n      <td>C</td>\n      <td>B</td>\n      <td>D</td>\n      <td>A</td>\n      <td>E</td>\n      <td>C</td>\n      <td>...</td>\n      <td>0.277480</td>\n      <td>0.479552</td>\n      <td>0.397436</td>\n      <td>0.476742</td>\n      <td>0.857073</td>\n      <td>0.516393</td>\n      <td>0.562065</td>\n      <td>0.730542</td>\n      <td>0.318492</td>\n      <td>0.736251</td>\n    </tr>\n    <tr>\n      <th>2</th>\n      <td>15</td>\n      <td>A</td>\n      <td>B</td>\n      <td>A</td>\n      <td>C</td>\n      <td>B</td>\n      <td>D</td>\n      <td>A</td>\n      <td>E</td>\n      <td>C</td>\n      <td>...</td>\n      <td>0.279508</td>\n      <td>0.676395</td>\n      <td>0.695284</td>\n      <td>0.253316</td>\n      <td>0.586934</td>\n      <td>0.548555</td>\n      <td>0.836193</td>\n      <td>0.759788</td>\n      <td>0.333572</td>\n      <td>0.273905</td>\n    </tr>\n    <tr>\n      <th>3</th>\n      <td>16</td>\n      <td>A</td>\n      <td>A</td>\n      <td>B</td>\n      <td>A</td>\n      <td>B</td>\n      <td>D</td>\n      <td>A</td>\n      <td>E</td>\n      <td>E</td>\n      <td>...</td>\n      <td>0.479503</td>\n      <td>0.759875</td>\n      <td>0.240049</td>\n      <td>0.298074</td>\n      <td>0.442475</td>\n      <td>0.596746</td>\n      <td>0.414131</td>\n      <td>0.255382</td>\n      <td>0.589080</td>\n      <td>0.311625</td>\n    </tr>\n    <tr>\n      <th>4</th>\n      <td>17</td>\n      <td>A</td>\n      <td>B</td>\n      <td>A</td>\n      <td>A</td>\n      <td>B</td>\n      <td>B</td>\n      <td>A</td>\n      <td>E</td>\n      <td>E</td>\n      <td>...</td>\n      <td>0.757845</td>\n      <td>0.210232</td>\n      <td>0.329851</td>\n      <td>0.616663</td>\n      <td>0.170475</td>\n      <td>0.263235</td>\n      <td>0.710961</td>\n      <td>0.224045</td>\n      <td>0.285860</td>\n      <td>0.794931</td>\n    </tr>\n    <tr>\n      <th>...</th>\n      <td>...</td>\n      <td>...</td>\n      <td>...</td>\n      <td>...</td>\n      <td>...</td>\n      <td>...</td>\n      <td>...</td>\n      <td>...</td>\n      <td>...</td>\n      <td>...</td>\n      <td>...</td>\n      <td>...</td>\n      <td>...</td>\n      <td>...</td>\n      <td>...</td>\n      <td>...</td>\n      <td>...</td>\n      <td>...</td>\n      <td>...</td>\n      <td>...</td>\n      <td>...</td>\n    </tr>\n    <tr>\n      <th>199995</th>\n      <td>499987</td>\n      <td>A</td>\n      <td>A</td>\n      <td>A</td>\n      <td>C</td>\n      <td>B</td>\n      <td>D</td>\n      <td>A</td>\n      <td>E</td>\n      <td>G</td>\n      <td>...</td>\n      <td>0.277365</td>\n      <td>0.963678</td>\n      <td>0.240482</td>\n      <td>0.686462</td>\n      <td>0.915165</td>\n      <td>0.848878</td>\n      <td>0.459598</td>\n      <td>0.590327</td>\n      <td>0.864873</td>\n      <td>0.425258</td>\n    </tr>\n    <tr>\n      <th>199996</th>\n      <td>499990</td>\n      <td>A</td>\n      <td>A</td>\n      <td>A</td>\n      <td>C</td>\n      <td>B</td>\n      <td>D</td>\n      <td>A</td>\n      <td>E</td>\n      <td>E</td>\n      <td>...</td>\n      <td>0.523174</td>\n      <td>0.232072</td>\n      <td>0.363421</td>\n      <td>0.694092</td>\n      <td>0.137002</td>\n      <td>0.319465</td>\n      <td>0.364527</td>\n      <td>0.388908</td>\n      <td>0.664357</td>\n      <td>0.224215</td>\n    </tr>\n    <tr>\n      <th>199997</th>\n      <td>499991</td>\n      <td>A</td>\n      <td>A</td>\n      <td>A</td>\n      <td>C</td>\n      <td>B</td>\n      <td>D</td>\n      <td>A</td>\n      <td>E</td>\n      <td>C</td>\n      <td>...</td>\n      <td>0.517103</td>\n      <td>0.432927</td>\n      <td>0.811876</td>\n      <td>0.328398</td>\n      <td>0.496017</td>\n      <td>0.538779</td>\n      <td>0.466338</td>\n      <td>0.643869</td>\n      <td>0.749590</td>\n      <td>0.457702</td>\n    </tr>\n    <tr>\n      <th>199998</th>\n      <td>499994</td>\n      <td>A</td>\n      <td>B</td>\n      <td>A</td>\n      <td>A</td>\n      <td>B</td>\n      <td>D</td>\n      <td>A</td>\n      <td>E</td>\n      <td>C</td>\n      <td>...</td>\n      <td>0.279153</td>\n      <td>0.837712</td>\n      <td>0.680886</td>\n      <td>0.534439</td>\n      <td>0.501588</td>\n      <td>0.809053</td>\n      <td>0.631704</td>\n      <td>0.766426</td>\n      <td>0.937139</td>\n      <td>0.796304</td>\n    </tr>\n    <tr>\n      <th>199999</th>\n      <td>499995</td>\n      <td>A</td>\n      <td>B</td>\n      <td>A</td>\n      <td>C</td>\n      <td>B</td>\n      <td>C</td>\n      <td>A</td>\n      <td>E</td>\n      <td>G</td>\n      <td>...</td>\n      <td>0.763246</td>\n      <td>0.792263</td>\n      <td>0.409425</td>\n      <td>0.285033</td>\n      <td>0.594721</td>\n      <td>0.824892</td>\n      <td>0.479586</td>\n      <td>0.683065</td>\n      <td>0.721518</td>\n      <td>0.722690</td>\n    </tr>\n  </tbody>\n</table>\n<p>200000 rows × 25 columns</p>\n</div>"
     },
     "metadata": {},
     "execution_count": 15
    }
   ],
   "source": [
    "test"
   ]
  },
  {
   "cell_type": "code",
   "execution_count": 16,
   "metadata": {},
   "outputs": [
    {
     "output_type": "stream",
     "name": "stdout",
     "text": [
      "<class 'pandas.core.frame.DataFrame'>\nRangeIndex: 300000 entries, 0 to 299999\nData columns (total 26 columns):\n #   Column  Non-Null Count   Dtype  \n---  ------  --------------   -----  \n 0   id      300000 non-null  int64  \n 1   cat0    300000 non-null  object \n 2   cat1    300000 non-null  object \n 3   cat2    300000 non-null  object \n 4   cat3    300000 non-null  object \n 5   cat4    300000 non-null  object \n 6   cat5    300000 non-null  object \n 7   cat6    300000 non-null  object \n 8   cat7    300000 non-null  object \n 9   cat8    300000 non-null  object \n 10  cat9    300000 non-null  object \n 11  cont0   300000 non-null  float64\n 12  cont1   300000 non-null  float64\n 13  cont2   300000 non-null  float64\n 14  cont3   300000 non-null  float64\n 15  cont4   300000 non-null  float64\n 16  cont5   300000 non-null  float64\n 17  cont6   300000 non-null  float64\n 18  cont7   300000 non-null  float64\n 19  cont8   300000 non-null  float64\n 20  cont9   300000 non-null  float64\n 21  cont10  300000 non-null  float64\n 22  cont11  300000 non-null  float64\n 23  cont12  300000 non-null  float64\n 24  cont13  300000 non-null  float64\n 25  target  300000 non-null  float64\ndtypes: float64(15), int64(1), object(10)\nmemory usage: 59.5+ MB\n"
     ]
    }
   ],
   "source": [
    "train.info()"
   ]
  },
  {
   "source": [
    "The column 'Target' is our y, and we treat every other column as X"
   ],
   "cell_type": "markdown",
   "metadata": {}
  },
  {
   "cell_type": "code",
   "execution_count": 17,
   "metadata": {},
   "outputs": [],
   "source": [
    "X = train.drop('target', axis=1)\n",
    "y = train['target']"
   ]
  },
  {
   "source": [
    "We have 10 categorical features and 14 numerical features. To set a baseline we just encode the categorical and normalize the numerical before training a base model."
   ],
   "cell_type": "markdown",
   "metadata": {}
  },
  {
   "source": [
    "**Lists of categorical and numerical features**"
   ],
   "cell_type": "markdown",
   "metadata": {}
  },
  {
   "cell_type": "code",
   "execution_count": 18,
   "metadata": {},
   "outputs": [],
   "source": [
    "cat_feat = ['cat0', 'cat1', 'cat2', 'cat3', 'cat4', 'cat5', 'cat6', 'cat7','cat8', 'cat9']\n",
    "num_feat = ['cont0', 'cont1', 'cont2', 'cont3', 'cont4', 'cont5','cont6', 'cont7', 'cont8', 'cont9', 'cont10', 'cont11', 'cont12','cont13']"
   ]
  },
  {
   "source": [
    "**Pipeline to scale numerical features**"
   ],
   "cell_type": "markdown",
   "metadata": {}
  },
  {
   "cell_type": "code",
   "execution_count": 19,
   "metadata": {},
   "outputs": [],
   "source": [
    "num_scale = pipeline.Pipeline(steps=[('scale', StandardScaler())])"
   ]
  },
  {
   "source": [
    "**Pipeline to encode categorical features**"
   ],
   "cell_type": "markdown",
   "metadata": {}
  },
  {
   "cell_type": "code",
   "execution_count": 20,
   "metadata": {},
   "outputs": [],
   "source": [
    "cat_encode = pipeline.Pipeline(steps=[('encode', OrdinalEncoder())])"
   ]
  },
  {
   "source": [
    "**Preprocessor**"
   ],
   "cell_type": "markdown",
   "metadata": {}
  },
  {
   "cell_type": "code",
   "execution_count": 21,
   "metadata": {},
   "outputs": [],
   "source": [
    "prepro = ColumnTransformer(transformers=[('num', num_scale, num_feat), ('cat', cat_encode, cat_feat)], remainder='drop')"
   ]
  },
  {
   "source": [
    "We need to split data between train and validation"
   ],
   "cell_type": "markdown",
   "metadata": {}
  },
  {
   "cell_type": "code",
   "execution_count": 22,
   "metadata": {},
   "outputs": [],
   "source": [
    "X_train, X_val, y_train, y_val = train_test_split(X, y, test_size=0.2, random_state=42)"
   ]
  },
  {
   "source": [
    "We fit our preprocessor only on train data to avoid leakages"
   ],
   "cell_type": "markdown",
   "metadata": {}
  },
  {
   "cell_type": "code",
   "execution_count": 23,
   "metadata": {},
   "outputs": [
    {
     "output_type": "execute_result",
     "data": {
      "text/plain": [
       "array([[ 6.19978641e-01,  1.07054797e+00,  7.37965766e-03, ...,\n",
       "         1.00000000e+00,  1.00000000e+00,  1.00000000e+00],\n",
       "       [-1.17529056e-01, -9.35655953e-02,  7.87131224e-02, ...,\n",
       "         1.00000000e+00,  2.00000000e+00,  1.00000000e+00],\n",
       "       [-1.12675203e+00,  7.74668800e-01, -6.63512078e-01, ...,\n",
       "         1.00000000e+00,  2.00000000e+00,  1.00000000e+00],\n",
       "       ...,\n",
       "       [-2.32030709e-01,  7.09344424e-01, -4.28562030e-01, ...,\n",
       "         1.00000000e+00,  4.00000000e+00,  9.00000000e+00],\n",
       "       [-1.20485466e+00, -6.46130424e-01,  1.78629046e+00, ...,\n",
       "         1.00000000e+00,  2.00000000e+00,  5.00000000e+00],\n",
       "       [ 1.85880053e+00,  6.33614597e-01,  4.91879711e-01, ...,\n",
       "         1.00000000e+00,  4.00000000e+00,  1.00000000e+00]])"
      ]
     },
     "metadata": {},
     "execution_count": 23
    }
   ],
   "source": [
    "X_train = prepro.fit_transform(X_train)\n",
    "X_val = prepro.transform(X_val)\n",
    "X_train"
   ]
  },
  {
   "source": [
    "**Baseline prediction with randomforestregressor**"
   ],
   "cell_type": "markdown",
   "metadata": {}
  },
  {
   "cell_type": "code",
   "execution_count": 1,
   "metadata": {},
   "outputs": [
    {
     "output_type": "error",
     "ename": "NameError",
     "evalue": "name 'RandomForestRegressor' is not defined",
     "traceback": [
      "\u001b[0;31m---------------------------------------------------------------------------\u001b[0m",
      "\u001b[0;31mNameError\u001b[0m                                 Traceback (most recent call last)",
      "\u001b[0;32m<ipython-input-1-cbef5520dbd4>\u001b[0m in \u001b[0;36m<module>\u001b[0;34m\u001b[0m\n\u001b[0;32m----> 1\u001b[0;31m \u001b[0mforest\u001b[0m \u001b[0;34m=\u001b[0m \u001b[0mRandomForestRegressor\u001b[0m\u001b[0;34m(\u001b[0m\u001b[0;34m)\u001b[0m\u001b[0;34m\u001b[0m\u001b[0;34m\u001b[0m\u001b[0m\n\u001b[0m\u001b[1;32m      2\u001b[0m \u001b[0;34m\u001b[0m\u001b[0m\n\u001b[1;32m      3\u001b[0m \u001b[0mforest\u001b[0m\u001b[0;34m.\u001b[0m\u001b[0mfit\u001b[0m\u001b[0;34m(\u001b[0m\u001b[0mX_train\u001b[0m\u001b[0;34m,\u001b[0m \u001b[0my_train\u001b[0m\u001b[0;34m)\u001b[0m\u001b[0;34m\u001b[0m\u001b[0;34m\u001b[0m\u001b[0m\n\u001b[1;32m      4\u001b[0m \u001b[0;34m\u001b[0m\u001b[0m\n",
      "\u001b[0;31mNameError\u001b[0m: name 'RandomForestRegressor' is not defined"
     ]
    }
   ],
   "source": [
    "forest = RandomForestRegressor()\n",
    "\n",
    "forest.fit(X_train, y_train)\n",
    "\n"
   ]
  }
 ]
}